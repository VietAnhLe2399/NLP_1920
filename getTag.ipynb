{
 "cells": [
  {
   "cell_type": "code",
   "execution_count": 1,
   "metadata": {},
   "outputs": [],
   "source": [
    "import os\n",
    "import pandas"
   ]
  },
  {
   "cell_type": "code",
   "execution_count": 2,
   "metadata": {},
   "outputs": [],
   "source": [
    "pathToText = \"C:/Users/vieta/Downloads/dataNLP/keyword-extraction-datasets-master/citeulike180/documents\"\n",
    "pathToTag = \"C:/Users/vieta/Downloads/dataNLP/keyword-extraction-datasets-master/citeulike180/taggers\""
   ]
  },
  {
   "cell_type": "code",
   "execution_count": 3,
   "metadata": {},
   "outputs": [],
   "source": [
    "tag_df = pandas.DataFrame(columns = ['fileName', 'tags'])"
   ]
  },
  {
   "cell_type": "code",
   "execution_count": 4,
   "metadata": {},
   "outputs": [
    {
     "data": {
      "text/html": [
       "<div>\n",
       "<style scoped>\n",
       "    .dataframe tbody tr th:only-of-type {\n",
       "        vertical-align: middle;\n",
       "    }\n",
       "\n",
       "    .dataframe tbody tr th {\n",
       "        vertical-align: top;\n",
       "    }\n",
       "\n",
       "    .dataframe thead th {\n",
       "        text-align: right;\n",
       "    }\n",
       "</style>\n",
       "<table border=\"1\" class=\"dataframe\">\n",
       "  <thead>\n",
       "    <tr style=\"text-align: right;\">\n",
       "      <th></th>\n",
       "      <th>fileName</th>\n",
       "      <th>tags</th>\n",
       "    </tr>\n",
       "  </thead>\n",
       "  <tbody>\n",
       "  </tbody>\n",
       "</table>\n",
       "</div>"
      ],
      "text/plain": [
       "Empty DataFrame\n",
       "Columns: [fileName, tags]\n",
       "Index: []"
      ]
     },
     "execution_count": 4,
     "metadata": {},
     "output_type": "execute_result"
    }
   ],
   "source": [
    "tag_df"
   ]
  },
  {
   "cell_type": "code",
   "execution_count": 5,
   "metadata": {},
   "outputs": [],
   "source": [
    "currentPos = 0\n",
    "\n",
    "for filename in os.listdir(pathToTag):\n",
    "    if \"tagger\" in filename:\n",
    "        for tagFile in os.listdir(pathToTag + \"/\" + filename):\n",
    "            content = open(pathToTag + \"/\" + filename + \"/\" + tagFile, 'r').read().replace('\\n', ';')\n",
    "            tag_df.loc[currentPos, 'fileName'] = int(tagFile.split('.')[0])\n",
    "            if content[-1:] == ';':\n",
    "                tag_df.loc[currentPos, 'tags'] = content[:-1]\n",
    "            else:\n",
    "                tag_df.loc[currentPos, 'tags'] = content\n",
    "            currentPos+=1"
   ]
  },
  {
   "cell_type": "code",
   "execution_count": 6,
   "metadata": {},
   "outputs": [
    {
     "data": {
      "text/html": [
       "<div>\n",
       "<style scoped>\n",
       "    .dataframe tbody tr th:only-of-type {\n",
       "        vertical-align: middle;\n",
       "    }\n",
       "\n",
       "    .dataframe tbody tr th {\n",
       "        vertical-align: top;\n",
       "    }\n",
       "\n",
       "    .dataframe thead th {\n",
       "        text-align: right;\n",
       "    }\n",
       "</style>\n",
       "<table border=\"1\" class=\"dataframe\">\n",
       "  <thead>\n",
       "    <tr style=\"text-align: right;\">\n",
       "      <th></th>\n",
       "      <th>fileName</th>\n",
       "      <th>tags</th>\n",
       "    </tr>\n",
       "  </thead>\n",
       "  <tbody>\n",
       "    <tr>\n",
       "      <th>0</th>\n",
       "      <td>101</td>\n",
       "      <td>motifs;networks;original</td>\n",
       "    </tr>\n",
       "    <tr>\n",
       "      <th>1</th>\n",
       "      <td>2107</td>\n",
       "      <td>yeast;networks</td>\n",
       "    </tr>\n",
       "    <tr>\n",
       "      <th>2</th>\n",
       "      <td>272</td>\n",
       "      <td>datasets;networks</td>\n",
       "    </tr>\n",
       "    <tr>\n",
       "      <th>3</th>\n",
       "      <td>3594</td>\n",
       "      <td>networks;motifs</td>\n",
       "    </tr>\n",
       "    <tr>\n",
       "      <th>4</th>\n",
       "      <td>43</td>\n",
       "      <td>robustness;engineering;control</td>\n",
       "    </tr>\n",
       "    <tr>\n",
       "      <th>...</th>\n",
       "      <td>...</td>\n",
       "      <td>...</td>\n",
       "    </tr>\n",
       "    <tr>\n",
       "      <th>1117</th>\n",
       "      <td>406519</td>\n",
       "      <td>expression;noise;network</td>\n",
       "    </tr>\n",
       "    <tr>\n",
       "      <th>1118</th>\n",
       "      <td>430079</td>\n",
       "      <td>coding;model;strf;visual</td>\n",
       "    </tr>\n",
       "    <tr>\n",
       "      <th>1119</th>\n",
       "      <td>506455</td>\n",
       "      <td>expression;noise</td>\n",
       "    </tr>\n",
       "    <tr>\n",
       "      <th>1120</th>\n",
       "      <td>553494</td>\n",
       "      <td>noise;expression</td>\n",
       "    </tr>\n",
       "    <tr>\n",
       "      <th>1121</th>\n",
       "      <td>559064</td>\n",
       "      <td>evolution;network;development;phylogeny;gene</td>\n",
       "    </tr>\n",
       "  </tbody>\n",
       "</table>\n",
       "<p>1122 rows × 2 columns</p>\n",
       "</div>"
      ],
      "text/plain": [
       "     fileName                                          tags\n",
       "0         101                      motifs;networks;original\n",
       "1        2107                                yeast;networks\n",
       "2         272                             datasets;networks\n",
       "3        3594                               networks;motifs\n",
       "4          43                robustness;engineering;control\n",
       "...       ...                                           ...\n",
       "1117   406519                      expression;noise;network\n",
       "1118   430079                      coding;model;strf;visual\n",
       "1119   506455                              expression;noise\n",
       "1120   553494                              noise;expression\n",
       "1121   559064  evolution;network;development;phylogeny;gene\n",
       "\n",
       "[1122 rows x 2 columns]"
      ]
     },
     "execution_count": 6,
     "metadata": {},
     "output_type": "execute_result"
    }
   ],
   "source": [
    "tag_df"
   ]
  },
  {
   "cell_type": "code",
   "execution_count": 7,
   "metadata": {},
   "outputs": [],
   "source": [
    "tag_df = tag_df.sort_values(by=['fileName'], ascending=True)"
   ]
  },
  {
   "cell_type": "code",
   "execution_count": 8,
   "metadata": {},
   "outputs": [
    {
     "data": {
      "text/html": [
       "<div>\n",
       "<style scoped>\n",
       "    .dataframe tbody tr th:only-of-type {\n",
       "        vertical-align: middle;\n",
       "    }\n",
       "\n",
       "    .dataframe tbody tr th {\n",
       "        vertical-align: top;\n",
       "    }\n",
       "\n",
       "    .dataframe thead th {\n",
       "        text-align: right;\n",
       "    }\n",
       "</style>\n",
       "<table border=\"1\" class=\"dataframe\">\n",
       "  <thead>\n",
       "    <tr style=\"text-align: right;\">\n",
       "      <th></th>\n",
       "      <th>fileName</th>\n",
       "      <th>tags</th>\n",
       "    </tr>\n",
       "  </thead>\n",
       "  <tbody>\n",
       "    <tr>\n",
       "      <th>105</th>\n",
       "      <td>43</td>\n",
       "      <td>systems biology;systems;biological model;robus...</td>\n",
       "    </tr>\n",
       "    <tr>\n",
       "      <th>557</th>\n",
       "      <td>43</td>\n",
       "      <td>design;cell;metabolism;intro;parsimony</td>\n",
       "    </tr>\n",
       "    <tr>\n",
       "      <th>269</th>\n",
       "      <td>43</td>\n",
       "      <td>engineering;2002;network;robustness;biology</td>\n",
       "    </tr>\n",
       "    <tr>\n",
       "      <th>4</th>\n",
       "      <td>43</td>\n",
       "      <td>robustness;engineering;control</td>\n",
       "    </tr>\n",
       "    <tr>\n",
       "      <th>38</th>\n",
       "      <td>43</td>\n",
       "      <td>systems biology;robustness</td>\n",
       "    </tr>\n",
       "    <tr>\n",
       "      <th>...</th>\n",
       "      <td>...</td>\n",
       "      <td>...</td>\n",
       "    </tr>\n",
       "    <tr>\n",
       "      <th>1063</th>\n",
       "      <td>2288308</td>\n",
       "      <td>alignment;bioinformatics;genome</td>\n",
       "    </tr>\n",
       "    <tr>\n",
       "      <th>27</th>\n",
       "      <td>2288308</td>\n",
       "      <td>alignment;phyloalignment;test;phylogeny</td>\n",
       "    </tr>\n",
       "    <tr>\n",
       "      <th>1083</th>\n",
       "      <td>2288308</td>\n",
       "      <td>methods;alignment;genomics;phylogenetics</td>\n",
       "    </tr>\n",
       "    <tr>\n",
       "      <th>854</th>\n",
       "      <td>2288308</td>\n",
       "      <td>phylogenetics;sequence alignment;evolution;fau...</td>\n",
       "    </tr>\n",
       "    <tr>\n",
       "      <th>350</th>\n",
       "      <td>2288308</td>\n",
       "      <td>alignment;tree comparison</td>\n",
       "    </tr>\n",
       "  </tbody>\n",
       "</table>\n",
       "<p>1122 rows × 2 columns</p>\n",
       "</div>"
      ],
      "text/plain": [
       "     fileName                                               tags\n",
       "105        43  systems biology;systems;biological model;robus...\n",
       "557        43             design;cell;metabolism;intro;parsimony\n",
       "269        43        engineering;2002;network;robustness;biology\n",
       "4          43                     robustness;engineering;control\n",
       "38         43                         systems biology;robustness\n",
       "...       ...                                                ...\n",
       "1063  2288308                    alignment;bioinformatics;genome\n",
       "27    2288308            alignment;phyloalignment;test;phylogeny\n",
       "1083  2288308           methods;alignment;genomics;phylogenetics\n",
       "854   2288308  phylogenetics;sequence alignment;evolution;fau...\n",
       "350   2288308                          alignment;tree comparison\n",
       "\n",
       "[1122 rows x 2 columns]"
      ]
     },
     "execution_count": 8,
     "metadata": {},
     "output_type": "execute_result"
    }
   ],
   "source": [
    "tag_df"
   ]
  },
  {
   "cell_type": "code",
   "execution_count": 9,
   "metadata": {
    "scrolled": false
   },
   "outputs": [],
   "source": [
    "tag_df = tag_df.reset_index()"
   ]
  },
  {
   "cell_type": "code",
   "execution_count": 10,
   "metadata": {},
   "outputs": [],
   "source": [
    "del tag_df['index']"
   ]
  },
  {
   "cell_type": "code",
   "execution_count": 11,
   "metadata": {},
   "outputs": [
    {
     "data": {
      "text/html": [
       "<div>\n",
       "<style scoped>\n",
       "    .dataframe tbody tr th:only-of-type {\n",
       "        vertical-align: middle;\n",
       "    }\n",
       "\n",
       "    .dataframe tbody tr th {\n",
       "        vertical-align: top;\n",
       "    }\n",
       "\n",
       "    .dataframe thead th {\n",
       "        text-align: right;\n",
       "    }\n",
       "</style>\n",
       "<table border=\"1\" class=\"dataframe\">\n",
       "  <thead>\n",
       "    <tr style=\"text-align: right;\">\n",
       "      <th></th>\n",
       "      <th>fileName</th>\n",
       "      <th>tags</th>\n",
       "    </tr>\n",
       "  </thead>\n",
       "  <tbody>\n",
       "    <tr>\n",
       "      <th>0</th>\n",
       "      <td>43</td>\n",
       "      <td>systems biology;systems;biological model;robus...</td>\n",
       "    </tr>\n",
       "    <tr>\n",
       "      <th>1</th>\n",
       "      <td>43</td>\n",
       "      <td>design;cell;metabolism;intro;parsimony</td>\n",
       "    </tr>\n",
       "    <tr>\n",
       "      <th>2</th>\n",
       "      <td>43</td>\n",
       "      <td>engineering;2002;network;robustness;biology</td>\n",
       "    </tr>\n",
       "    <tr>\n",
       "      <th>3</th>\n",
       "      <td>43</td>\n",
       "      <td>robustness;engineering;control</td>\n",
       "    </tr>\n",
       "    <tr>\n",
       "      <th>4</th>\n",
       "      <td>43</td>\n",
       "      <td>systems biology;robustness</td>\n",
       "    </tr>\n",
       "    <tr>\n",
       "      <th>...</th>\n",
       "      <td>...</td>\n",
       "      <td>...</td>\n",
       "    </tr>\n",
       "    <tr>\n",
       "      <th>1117</th>\n",
       "      <td>2288308</td>\n",
       "      <td>alignment;bioinformatics;genome</td>\n",
       "    </tr>\n",
       "    <tr>\n",
       "      <th>1118</th>\n",
       "      <td>2288308</td>\n",
       "      <td>alignment;phyloalignment;test;phylogeny</td>\n",
       "    </tr>\n",
       "    <tr>\n",
       "      <th>1119</th>\n",
       "      <td>2288308</td>\n",
       "      <td>methods;alignment;genomics;phylogenetics</td>\n",
       "    </tr>\n",
       "    <tr>\n",
       "      <th>1120</th>\n",
       "      <td>2288308</td>\n",
       "      <td>phylogenetics;sequence alignment;evolution;fau...</td>\n",
       "    </tr>\n",
       "    <tr>\n",
       "      <th>1121</th>\n",
       "      <td>2288308</td>\n",
       "      <td>alignment;tree comparison</td>\n",
       "    </tr>\n",
       "  </tbody>\n",
       "</table>\n",
       "<p>1122 rows × 2 columns</p>\n",
       "</div>"
      ],
      "text/plain": [
       "     fileName                                               tags\n",
       "0          43  systems biology;systems;biological model;robus...\n",
       "1          43             design;cell;metabolism;intro;parsimony\n",
       "2          43        engineering;2002;network;robustness;biology\n",
       "3          43                     robustness;engineering;control\n",
       "4          43                         systems biology;robustness\n",
       "...       ...                                                ...\n",
       "1117  2288308                    alignment;bioinformatics;genome\n",
       "1118  2288308            alignment;phyloalignment;test;phylogeny\n",
       "1119  2288308           methods;alignment;genomics;phylogenetics\n",
       "1120  2288308  phylogenetics;sequence alignment;evolution;fau...\n",
       "1121  2288308                          alignment;tree comparison\n",
       "\n",
       "[1122 rows x 2 columns]"
      ]
     },
     "execution_count": 11,
     "metadata": {},
     "output_type": "execute_result"
    }
   ],
   "source": [
    "tag_df"
   ]
  },
  {
   "cell_type": "code",
   "execution_count": 12,
   "metadata": {},
   "outputs": [],
   "source": [
    "# tag_df.to_csv(\"tags_original.csv\")"
   ]
  },
  {
   "cell_type": "code",
   "execution_count": 13,
   "metadata": {},
   "outputs": [],
   "source": [
    "# a = set(tag_df.loc[0, 'tags'][:-1].split(';'))"
   ]
  },
  {
   "cell_type": "code",
   "execution_count": 14,
   "metadata": {},
   "outputs": [],
   "source": [
    "# a.update(list(tag_df.loc[0, 'tags'][:-1].split(';')))"
   ]
  },
  {
   "cell_type": "code",
   "execution_count": 15,
   "metadata": {},
   "outputs": [],
   "source": [
    "# a"
   ]
  },
  {
   "cell_type": "code",
   "execution_count": 16,
   "metadata": {},
   "outputs": [],
   "source": [
    "# '; '.join(a)"
   ]
  },
  {
   "cell_type": "code",
   "execution_count": 17,
   "metadata": {},
   "outputs": [
    {
     "data": {
      "text/html": [
       "<div>\n",
       "<style scoped>\n",
       "    .dataframe tbody tr th:only-of-type {\n",
       "        vertical-align: middle;\n",
       "    }\n",
       "\n",
       "    .dataframe tbody tr th {\n",
       "        vertical-align: top;\n",
       "    }\n",
       "\n",
       "    .dataframe thead th {\n",
       "        text-align: right;\n",
       "    }\n",
       "</style>\n",
       "<table border=\"1\" class=\"dataframe\">\n",
       "  <thead>\n",
       "    <tr style=\"text-align: right;\">\n",
       "      <th></th>\n",
       "      <th>fileName</th>\n",
       "      <th>fileText</th>\n",
       "      <th>tags</th>\n",
       "    </tr>\n",
       "  </thead>\n",
       "  <tbody>\n",
       "  </tbody>\n",
       "</table>\n",
       "</div>"
      ],
      "text/plain": [
       "Empty DataFrame\n",
       "Columns: [fileName, fileText, tags]\n",
       "Index: []"
      ]
     },
     "execution_count": 17,
     "metadata": {},
     "output_type": "execute_result"
    }
   ],
   "source": [
    "final_tag_df = pandas.DataFrame(columns = ['fileName', 'fileText', 'tags'])\n",
    "final_tag_df"
   ]
  },
  {
   "cell_type": "code",
   "execution_count": 18,
   "metadata": {},
   "outputs": [],
   "source": [
    "currentPos = 0\n",
    "currentFileName = tag_df.loc[0, 'fileName']\n",
    "currentSet = set(tag_df.loc[0, 'tags'][:-1].split(';'))\n",
    "\n",
    "for i in range(len(tag_df)):\n",
    "    tempFileName = tag_df.loc[i, 'fileName']\n",
    "    if tempFileName == currentFileName:\n",
    "        currentSet.update(list(tag_df.loc[i, 'tags'].split(';')))\n",
    "    else:\n",
    "        final_tag_df.loc[currentPos, 'fileName'] = currentFileName\n",
    "        filePath = pathToText + '/' + str(currentFileName) + '.txt'\n",
    "        content = open(filePath)\n",
    "        final_tag_df.loc[currentPos, 'fileText'] = content.read()\n",
    "        final_tag_df.loc[currentPos, 'tags'] = '; '.join(currentSet)\n",
    "        currentPos+=1\n",
    "        currentFileName = tag_df.loc[i, 'fileName']\n",
    "        currentSet = set(tag_df.loc[i, 'tags'].split(';'))"
   ]
  },
  {
   "cell_type": "code",
   "execution_count": 19,
   "metadata": {},
   "outputs": [
    {
     "data": {
      "text/html": [
       "<div>\n",
       "<style scoped>\n",
       "    .dataframe tbody tr th:only-of-type {\n",
       "        vertical-align: middle;\n",
       "    }\n",
       "\n",
       "    .dataframe tbody tr th {\n",
       "        vertical-align: top;\n",
       "    }\n",
       "\n",
       "    .dataframe thead th {\n",
       "        text-align: right;\n",
       "    }\n",
       "</style>\n",
       "<table border=\"1\" class=\"dataframe\">\n",
       "  <thead>\n",
       "    <tr style=\"text-align: right;\">\n",
       "      <th></th>\n",
       "      <th>fileName</th>\n",
       "      <th>fileText</th>\n",
       "      <th>tags</th>\n",
       "    </tr>\n",
       "  </thead>\n",
       "  <tbody>\n",
       "    <tr>\n",
       "      <th>0</th>\n",
       "      <td>43</td>\n",
       "      <td>Reverse Engineering of Biological Complexity M...</td>\n",
       "      <td>parsimony; 2002; robustness; systems biology; ...</td>\n",
       "    </tr>\n",
       "    <tr>\n",
       "      <th>1</th>\n",
       "      <td>44</td>\n",
       "      <td>insight review articles\\n\\nExploring complex n...</td>\n",
       "      <td>bistability; network; complex networks; networ...</td>\n",
       "    </tr>\n",
       "    <tr>\n",
       "      <th>2</th>\n",
       "      <td>47</td>\n",
       "      <td>insight review articles\\n\\nExploring complex n...</td>\n",
       "      <td>search; web graph; small world; navigation; mo...</td>\n",
       "    </tr>\n",
       "    <tr>\n",
       "      <th>3</th>\n",
       "      <td>99</td>\n",
       "      <td>letters to nature\\ntypically slower than 1 km ...</td>\n",
       "      <td>bistability; clustering; network; network dyna...</td>\n",
       "    </tr>\n",
       "    <tr>\n",
       "      <th>4</th>\n",
       "      <td>101</td>\n",
       "      <td>Network Motifs: Simple Building Blocks of Comp...</td>\n",
       "      <td>protein protein; link analysis; web graph; 200...</td>\n",
       "    </tr>\n",
       "    <tr>\n",
       "      <th>...</th>\n",
       "      <td>...</td>\n",
       "      <td>...</td>\n",
       "      <td>...</td>\n",
       "    </tr>\n",
       "    <tr>\n",
       "      <th>177</th>\n",
       "      <td>1910555</td>\n",
       "      <td>Molecular Systems Biology 3; Article number 14...</td>\n",
       "      <td>arac; synthetic; arabinose; prokaryote; tfbs; ...</td>\n",
       "    </tr>\n",
       "    <tr>\n",
       "      <th>178</th>\n",
       "      <td>1926414</td>\n",
       "      <td>Fast-Forward Playback of Recent Memory Sequenc...</td>\n",
       "      <td>cortex; electrophysiology; hippocampus; kristi...</td>\n",
       "    </tr>\n",
       "    <tr>\n",
       "      <th>179</th>\n",
       "      <td>1989097</td>\n",
       "      <td>Distinguishing protein-coding and noncoding ge...</td>\n",
       "      <td>genomics; genomic; evolutionary proteomics; an...</td>\n",
       "    </tr>\n",
       "    <tr>\n",
       "      <th>180</th>\n",
       "      <td>2163327</td>\n",
       "      <td>Downloaded from bmj.com on 7 May 2008\\n\\nWeb 3...</td>\n",
       "      <td>semantic web; informatics; hype; web30; semant...</td>\n",
       "    </tr>\n",
       "    <tr>\n",
       "      <th>181</th>\n",
       "      <td>2235507</td>\n",
       "      <td>Molecular Systems Biology 4; Article number 15...</td>\n",
       "      <td>promoter; microarray; expression; gene express...</td>\n",
       "    </tr>\n",
       "  </tbody>\n",
       "</table>\n",
       "<p>182 rows × 3 columns</p>\n",
       "</div>"
      ],
      "text/plain": [
       "    fileName                                           fileText  \\\n",
       "0         43  Reverse Engineering of Biological Complexity M...   \n",
       "1         44  insight review articles\\n\\nExploring complex n...   \n",
       "2         47  insight review articles\\n\\nExploring complex n...   \n",
       "3         99  letters to nature\\ntypically slower than 1 km ...   \n",
       "4        101  Network Motifs: Simple Building Blocks of Comp...   \n",
       "..       ...                                                ...   \n",
       "177  1910555  Molecular Systems Biology 3; Article number 14...   \n",
       "178  1926414  Fast-Forward Playback of Recent Memory Sequenc...   \n",
       "179  1989097  Distinguishing protein-coding and noncoding ge...   \n",
       "180  2163327  Downloaded from bmj.com on 7 May 2008\\n\\nWeb 3...   \n",
       "181  2235507  Molecular Systems Biology 4; Article number 15...   \n",
       "\n",
       "                                                  tags  \n",
       "0    parsimony; 2002; robustness; systems biology; ...  \n",
       "1    bistability; network; complex networks; networ...  \n",
       "2    search; web graph; small world; navigation; mo...  \n",
       "3    bistability; clustering; network; network dyna...  \n",
       "4    protein protein; link analysis; web graph; 200...  \n",
       "..                                                 ...  \n",
       "177  arac; synthetic; arabinose; prokaryote; tfbs; ...  \n",
       "178  cortex; electrophysiology; hippocampus; kristi...  \n",
       "179  genomics; genomic; evolutionary proteomics; an...  \n",
       "180  semantic web; informatics; hype; web30; semant...  \n",
       "181  promoter; microarray; expression; gene express...  \n",
       "\n",
       "[182 rows x 3 columns]"
      ]
     },
     "execution_count": 19,
     "metadata": {},
     "output_type": "execute_result"
    }
   ],
   "source": [
    "final_tag_df"
   ]
  },
  {
   "cell_type": "code",
   "execution_count": 21,
   "metadata": {},
   "outputs": [
    {
     "data": {
      "text/plain": [
       "'parsimony; 2002; robustness; systems biology; network; emergenc; biology; engineering; systems; design; biological model; modeling; review; networks; cell; control; metabolism; complexity; intro; emergence; regulatory network'"
      ]
     },
     "execution_count": 21,
     "metadata": {},
     "output_type": "execute_result"
    }
   ],
   "source": [
    "final_tag_df.loc[0, 'tags']"
   ]
  },
  {
   "cell_type": "code",
   "execution_count": 22,
   "metadata": {},
   "outputs": [],
   "source": [
    "# final_tag_df.to_csv('textWithtag.csv')"
   ]
  },
  {
   "cell_type": "code",
   "execution_count": null,
   "metadata": {},
   "outputs": [],
   "source": []
  }
 ],
 "metadata": {
  "kernelspec": {
   "display_name": "Python 3",
   "language": "python",
   "name": "python3"
  },
  "language_info": {
   "codemirror_mode": {
    "name": "ipython",
    "version": 3
   },
   "file_extension": ".py",
   "mimetype": "text/x-python",
   "name": "python",
   "nbconvert_exporter": "python",
   "pygments_lexer": "ipython3",
   "version": "3.7.3"
  }
 },
 "nbformat": 4,
 "nbformat_minor": 2
}
